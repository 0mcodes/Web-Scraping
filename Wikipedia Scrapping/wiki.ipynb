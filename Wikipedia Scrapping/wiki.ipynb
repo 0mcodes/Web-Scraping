{
 "cells": [
  {
   "cell_type": "code",
   "execution_count": 1,
   "metadata": {},
   "outputs": [
    {
     "name": "stdout",
     "output_type": "stream",
     "text": [
      "Mahātmā (English pronunciation: /məˈhɑːtmə, məˈhætmə/, Sanskrit: महात्मा, romanized: mahātmā, from Sanskrit  महा (mahā) 'great' and  आत्मा (ātmā) 'soul') is an honorific used in India.\n",
      "\n",
      "The term is commonly used for Mohandas Karamchand Gandhi, who is often referred to simply as \"Mahatma Gandhi\". Albeit less frequently, this epithet has also been used with regard to such people as Basava[1] (1131–1167), Swami Shraddhanand (1856–1926), Lalon Shah (1772–1890), Ayyankali (1863–1941), and Jyotirao Phule (1827–1890). \n",
      "\n",
      "The term mahātmā has also been historically used for a class of religious scholars in Jainism; for the selected religious leaders in Theosophy; and for local religious teachers in the Divine Light Mission church.\n",
      "\n",
      "The word, used in a technical sense, was popularized in theosophical literature in the late 19th century, when Helena Blavatsky, one of the founders of the Theosophical Society, claimed that her teachers were adepts (or Mahatmas) who reside in Asia. According to the Theosophical teachings, the Mahatmas are not disembodied beings, but highly evolved people involved in overseeing the spiritual growth of individuals and the development of civilizations. Blavatsky was the first person in modern times to claim contact with these Adepts, especially the \"Masters\" Koot Hoomi and Morya. Alvin Boyd Kuhn wrote about mahātmās:[2]\n",
      "\n",
      "The Masters whom Theosophy presents to us are simply high-ranking students in life's school of experience. They are members of our own evolutionary group, not visitants from the celestial spheres. They are supermen only in that they have attained knowledge of the laws of life and mastery over its forces with which we are still struggling.\n",
      "\n",
      "After Blavatsky's death in 1891, numerous individuals have claimed to be in contact with her Adept Teachers. These individuals have stated that they are new \"messengers\" of the Masters and they have conveyed various esoteric teachings.[3] Currently, various Theosophical movements refer to them as Ascended Masters, although their character and teachings are in several respects different from those described by Blavatsky.[4][5]\n",
      "\n",
      "There has been a great deal of controversy concerning the existence of adepts. Blavatsky's critics have doubted the existence of her Masters. See, for example, W. E. Coleman's exposes.\n",
      "\n",
      "K. Paul Johnson in his books[6] speculates that the \"Masters\" that Blavatsky wrote about and produced letters from were actually idealizations of people who were her mentors. Aryel Sanat,[7] author of The inner life of Krishnamurti: private passion and perennial wisdom, wrote that Johnson \"claims in all of his books that there were no Masters at all in early Theosophical Society history, and that Helena Blavatsky invented them (as others had claimed she had invented her travels)\". Sanat wrote that Johnson \"deliberately ignores the main sources of evidence for their real physical existence\".[8] What Sanat thought these were is not made quite clear.\n",
      "\n",
      "According to some authors, Rabindranath Tagore is said to have used this title for Gandhi on 6 March 1915.[9] Some claim that he was called Mahatma by the residents of Gurukul Kangadi in April 1915,[10] and he in turn called the founder Munshiram a Mahatma (who later became Swami Shraddhanand). However, a document honoring him with the title \"Mahatma\" on 21 January 1915, in Jetpur, Gujarat, by Nautamlal Bhagvanji Mehta is preserved at the National Gandhi Museum in New Delhi, India.[11] A private letter from Gandhi's friend Pranjivan Mehta to Gopal Krishna Gokhale in 1909 referred to Gandhi with the title and thus remains the earliest written record available to use the title.[12]  The use of the term Mahatma in Jainism to denote a class of lay priests, has been noted since the 17th century. A Mahatma is someone who practices Trikaranasuddhi.[13]\n",
      "\n",
      "The Divine Light Mission (DLM) was a Sant Mat-based movement begun in India in the 1930s by Hans Maharaj and formally incorporated in 1960. The DLM had as many as 2,000 Mahatmas, all from India or Tibet, who taught the DLM's secret meditation techniques called \"Knowledge\".  The Mahatmas, called \"realized souls\",[14] or \"apostles\",  also served as local leaders.[15] After Hans Ji's death in 1966 his youngest son,  Prem Rawat (known then as Guru Maharaj Ji or Bagyogeshwar), succeeded him. The young guru appointed some new Mahatmas, including one from the United States.  In one incident, a prominent Indian Mahatma nearly beat a man to death in Detroit for throwing a pie at the guru.[16]  In the early 1980s, Prem Rawat replaced the Divine Light Mission organization with the Elan Vital and replaced the Mahatmas with initiators. The initiators did not have the revered status of the Mahatmas, and they were drawn mostly from Western followers.[14] In the 2000s, the initiators were replaced by a video in which Rawat teaches the techniques himself.\n",
      "\n",
      "Among the Jains the term  Mahatma is used for the class for scholars who are householders.\n",
      "\n",
      "The colophon of the Mewar Ramayana, described as \"one of the most beautiful manuscripts in the world\",[17][18] states that the text, commissioned by Acharya Jasvant for the library of Maharana Jagat Singh I of Mewar, was written by one Mahatma Hirananda and finished on Friday 25 November 1650.[19] Being a Jain scribe, Mahatma Hirananda incorporated traditional Jain scribal elements into the manuscript.[20]\n",
      "\n",
      "The Dabestan-e Mazaheb, written around 1655 CE, is a text that describes various religions and philosophies the author encountered.[21] Its Section 11 is dedicated to Jainism. It states: \"Similar to the dervishes of both classes (Monk and Jatis) is a third sect, called Mahá-átma; group separated from the Oswal Jains, have the dress and appearance of Jatis; however, do not pluck their hair with tweezers, but cut it. They live the social life and spread the teaching of Mahavir and other Jain Tirthankars in the society. They accumulate money, cook their meals in their houses, drink cold water, and take to them a wife.\"[22] The term Mahatma was thus used for priests/scholars who were not celibate.\n",
      "\n"
     ]
    }
   ],
   "source": [
    "import requests\n",
    "from bs4 import BeautifulSoup\n",
    "from urllib.parse import quote\n",
    "\n",
    "# Function to fetch Wikipedia text\n",
    "def get_wikipedia_text(title):\n",
    "    encoded_title = quote(title)\n",
    "    url = f\"https://en.wikipedia.org/wiki/{encoded_title}\"\n",
    "    response = requests.get(url)\n",
    "    \n",
    "    if response.status_code != 200:\n",
    "        return f\"Error: Unable to fetch the page. Status Code: {response.status_code}\"\n",
    "    \n",
    "    soup = BeautifulSoup(response.text, 'html.parser')\n",
    "    content = soup.find('div', {'id': 'bodyContent'})\n",
    "    \n",
    "    if not content:\n",
    "        return \"Error: Unable to find content on the page.\"\n",
    "    \n",
    "    paragraphs = content.find_all('p')\n",
    "    text = '\\n'.join([p.get_text() for p in paragraphs if p.get_text().strip()])\n",
    "    \n",
    "    return text\n",
    "\n",
    "# Interactive input in Jupyter Notebook\n",
    "title = input(\"Enter Wikipedia page title: \")\n",
    "text = get_wikipedia_text(title)\n",
    "print(text)\n"
   ]
  }
 ],
 "metadata": {
  "kernelspec": {
   "display_name": "Python 3",
   "language": "python",
   "name": "python3"
  },
  "language_info": {
   "codemirror_mode": {
    "name": "ipython",
    "version": 3
   },
   "file_extension": ".py",
   "mimetype": "text/x-python",
   "name": "python",
   "nbconvert_exporter": "python",
   "pygments_lexer": "ipython3",
   "version": "3.12.4"
  }
 },
 "nbformat": 4,
 "nbformat_minor": 2
}
